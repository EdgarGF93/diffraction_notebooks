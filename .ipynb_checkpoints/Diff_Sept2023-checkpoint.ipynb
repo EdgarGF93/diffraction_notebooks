{
 "cells": [
  {
   "cell_type": "code",
   "execution_count": 5,
   "id": "31f3415d-bff6-4fa9-b771-53ed0f95b113",
   "metadata": {},
   "outputs": [],
   "source": [
    "import numpy as np\n",
    "import matplotlib.pyplot as plt"
   ]
  },
  {
   "cell_type": "code",
   "execution_count": 17,
   "id": "ffd39fb1-2501-4bec-9218-92aff69bf882",
   "metadata": {},
   "outputs": [],
   "source": [
    "WAVELENGTH = 1"
   ]
  },
  {
   "cell_type": "code",
   "execution_count": 18,
   "id": "8aaeeb86-5866-4737-90d7-96638fe96b72",
   "metadata": {},
   "outputs": [],
   "source": [
    "d020 = 1.997\n",
    "d002 = 2.019"
   ]
  },
  {
   "cell_type": "markdown",
   "id": "39676089-59bf-4c19-989a-a14649439a06",
   "metadata": {},
   "source": [
    "##### La"
   ]
  },
  {
   "cell_type": "code",
   "execution_count": 19,
   "id": "bcd8f2c7-e4be-4241-9ea3-eee860a31f92",
   "metadata": {},
   "outputs": [],
   "source": [
    "q002 = 2 * np.pi / d002\n",
    "q020 = 2 * np.pi / d020"
   ]
  },
  {
   "cell_type": "code",
   "execution_count": 20,
   "id": "03260401-12c2-4d6f-9945-970997cb9bc4",
   "metadata": {},
   "outputs": [],
   "source": [
    "def tth(q, wavel):\n",
    "    return 2 * np.arcsin(q * wavel / (4 * np.pi)) * 180 / np.pi"
   ]
  },
  {
   "cell_type": "code",
   "execution_count": 21,
   "id": "cfdf1f5f-004c-405f-a510-524c475326c0",
   "metadata": {},
   "outputs": [],
   "source": [
    "tth_020 = tth(q=q020, wavel=WAVELENGTH)\n",
    "tth_002 = tth(q=q002, wavel=WAVELENGTH)"
   ]
  },
  {
   "cell_type": "code",
   "execution_count": 22,
   "id": "a9076127-37a7-43cf-910a-3bb37172097e",
   "metadata": {},
   "outputs": [
    {
     "data": {
      "text/plain": [
       "28.676676093720776"
      ]
     },
     "execution_count": 22,
     "metadata": {},
     "output_type": "execute_result"
    }
   ],
   "source": [
    "tth_002"
   ]
  },
  {
   "cell_type": "code",
   "execution_count": 23,
   "id": "b9725957-9a58-4f2b-8d6c-e96361cc7651",
   "metadata": {},
   "outputs": [
    {
     "data": {
      "text/plain": [
       "28.999474390585668"
      ]
     },
     "execution_count": 23,
     "metadata": {},
     "output_type": "execute_result"
    }
   ],
   "source": [
    "tth_020"
   ]
  },
  {
   "cell_type": "code",
   "execution_count": 39,
   "id": "b2d065d9-32f6-42f0-811a-3d60d6cb5afb",
   "metadata": {},
   "outputs": [],
   "source": [
    "d_lab6 = 4.1564"
   ]
  },
  {
   "cell_type": "code",
   "execution_count": 40,
   "id": "44d61ee6-acb2-4b9e-8df2-f89d0e1c1250",
   "metadata": {},
   "outputs": [],
   "source": [
    "q_lab6 = 2 * np.pi / d_lab6"
   ]
  },
  {
   "cell_type": "code",
   "execution_count": 41,
   "id": "ac9aab22-dc66-45f6-8efb-c673228c0fe4",
   "metadata": {},
   "outputs": [
    {
     "data": {
      "text/plain": [
       "1.5116892760994098"
      ]
     },
     "execution_count": 41,
     "metadata": {},
     "output_type": "execute_result"
    }
   ],
   "source": [
    "q_lab6"
   ]
  },
  {
   "cell_type": "code",
   "execution_count": 42,
   "id": "ac96fade-35da-4d89-bfe1-d5bf25d8702b",
   "metadata": {},
   "outputs": [
    {
     "data": {
      "text/plain": [
       "13.818419130691868"
      ]
     },
     "execution_count": 42,
     "metadata": {},
     "output_type": "execute_result"
    }
   ],
   "source": [
    "tth(q_lab6, 1)"
   ]
  },
  {
   "cell_type": "code",
   "execution_count": null,
   "id": "ccb8ab61-5155-4342-8808-523b50ab74a9",
   "metadata": {},
   "outputs": [],
   "source": []
  },
  {
   "cell_type": "markdown",
   "id": "f2dc218b-ec36-48ab-9133-43b4693de667",
   "metadata": {},
   "source": [
    "##### Zr"
   ]
  },
  {
   "cell_type": "code",
   "execution_count": 33,
   "id": "55bed8c0-2d88-478e-8070-c9f4471a4644",
   "metadata": {},
   "outputs": [],
   "source": [
    "d020 = 2.018\n",
    "d002 = 2.073"
   ]
  },
  {
   "cell_type": "code",
   "execution_count": 34,
   "id": "2e6ab3c9-1bef-4204-bcec-0199865ad8d5",
   "metadata": {},
   "outputs": [],
   "source": [
    "q002 = 2 * np.pi / d002\n",
    "q020 = 2 * np.pi / d020"
   ]
  },
  {
   "cell_type": "code",
   "execution_count": 35,
   "id": "b8fd348c-4d05-46b1-945f-0e095f99c9c5",
   "metadata": {},
   "outputs": [],
   "source": [
    "tth_020 = tth(q=q020, wavel=WAVELENGTH)\n",
    "tth_002 = tth(q=q002, wavel=WAVELENGTH)"
   ]
  },
  {
   "cell_type": "code",
   "execution_count": 36,
   "id": "a7a877ff-a287-46a1-a3aa-153e2ad07407",
   "metadata": {},
   "outputs": [
    {
     "data": {
      "text/plain": [
       "28.691191043304034"
      ]
     },
     "execution_count": 36,
     "metadata": {},
     "output_type": "execute_result"
    }
   ],
   "source": [
    "tth_020"
   ]
  },
  {
   "cell_type": "code",
   "execution_count": 37,
   "id": "d836040c-e4e7-4b79-acd6-9bc5d6078202",
   "metadata": {},
   "outputs": [
    {
     "data": {
      "text/plain": [
       "27.914319405645227"
      ]
     },
     "execution_count": 37,
     "metadata": {},
     "output_type": "execute_result"
    }
   ],
   "source": [
    "tth_002"
   ]
  },
  {
   "cell_type": "code",
   "execution_count": 38,
   "id": "8bb37b31-a027-4f1c-818d-3a01d88804e7",
   "metadata": {},
   "outputs": [
    {
     "data": {
      "text/plain": [
       "0.5235987755982988"
      ]
     },
     "execution_count": 38,
     "metadata": {},
     "output_type": "execute_result"
    }
   ],
   "source": [
    "np.radians(30)"
   ]
  },
  {
   "cell_type": "code",
   "execution_count": null,
   "id": "654bbe91-c4b7-4427-a8c9-a04c67828df6",
   "metadata": {},
   "outputs": [],
   "source": []
  }
 ],
 "metadata": {
  "kernelspec": {
   "display_name": "Python 3 (ipykernel)",
   "language": "python",
   "name": "python3"
  },
  "language_info": {
   "codemirror_mode": {
    "name": "ipython",
    "version": 3
   },
   "file_extension": ".py",
   "mimetype": "text/x-python",
   "name": "python",
   "nbconvert_exporter": "python",
   "pygments_lexer": "ipython3",
   "version": "3.9.13"
  }
 },
 "nbformat": 4,
 "nbformat_minor": 5
}
